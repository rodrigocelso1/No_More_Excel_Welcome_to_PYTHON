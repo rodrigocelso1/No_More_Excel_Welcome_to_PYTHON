{
 "cells": [
  {
   "cell_type": "code",
   "execution_count": 1,
   "metadata": {},
   "outputs": [
    {
     "name": "stdout",
     "output_type": "stream",
     "text": [
      "current working directory: C:\\Users\\rodig\\Downloads\\python-homework\\PyRamen\n"
     ]
    }
   ],
   "source": [
    "###Import libraries\n",
    "from pathlib import Path\n",
    "import csv\n",
    "print(f'current working directory: {Path.cwd()}')"
   ]
  },
  {
   "cell_type": "code",
   "execution_count": 2,
   "metadata": {},
   "outputs": [],
   "source": [
    "###Set file paths for menu_data.csv and sales_data.csv\n",
    "menu_filepath = Path(\"C:/Users/rodig/Downloads/python-homework/PyRamen/02-Homework_02-Python_PyRamen_Resources_menu_data.csv\")\n",
    "sales_filepath = Path(\"C:/Users/rodig/Downloads/python-homework/PyRamen/02-Homework_02-Python_PyRamen_Resources_sales_data.csv\")\n",
    "\n",
    "###Initialize list objects to hold our menu and sales data\n",
    "menu = []\n",
    "sales = []\n"
   ]
  },
  {
   "cell_type": "code",
   "execution_count": 3,
   "metadata": {},
   "outputs": [],
   "source": [
    "###Read in menu_data.csv and set its contents to a separate list object.\n",
    "with open(menu_filepath, 'r') as datafile:\n",
    "    csvreader_menu = csv.reader(datafile, delimiter=',')\n",
    "    header = next(csvreader_menu)\n",
    "\n",
    "###Initialize an empty menu list object to hold the contents of menu_data.csv   \n",
    "    for data_menu in csvreader_menu:\n",
    "        menu.append(data_menu)"
   ]
  },
  {
   "cell_type": "code",
   "execution_count": 4,
   "metadata": {},
   "outputs": [],
   "source": [
    "###append every row of the sales data to a new sales list object.\n",
    "with open(sales_filepath, 'r') as datafile:\n",
    "    csvreader_sales = csv.reader(datafile, delimiter=',')\n",
    "    header = next(csvreader_sales)\n",
    "\n",
    "###Initialize an empty menu list object to hold the contents of sales_data.csv\n",
    "    for data_sales in csvreader_sales:\n",
    "        sales.append(data_sales)"
   ]
  },
  {
   "cell_type": "code",
   "execution_count": 5,
   "metadata": {},
   "outputs": [],
   "source": [
    "###Initialize an empty report dictionary to hold the future aggregated per-product results. \n",
    "report = {\n",
    "    \"01-count\": 0,\n",
    "    \"02-revenue\": 0,\n",
    "    \"03-cogs\": 0,\n",
    "    \"04-profit\": 0,\n",
    "}"
   ]
  },
  {
   "cell_type": "code",
   "execution_count": 6,
   "metadata": {},
   "outputs": [],
   "source": [
    "# Initialize a row counter variable\n",
    "row_count = 0"
   ]
  },
  {
   "cell_type": "code",
   "execution_count": 7,
   "metadata": {},
   "outputs": [],
   "source": [
    "###Then, loop through every row in the sales list object.\n",
    "###For each row of the sales data, set the following columns of the sales data to their own variables:\n",
    "###Quantity,Menu_Item\n",
    "qnt = []\n",
    "menu_item = []\n",
    "for row in sales:\n",
    "    qnt.append(row[3])\n",
    "    menu_item.append(row[4])"
   ]
  },
  {
   "cell_type": "code",
   "execution_count": 8,
   "metadata": {},
   "outputs": [
    {
     "name": "stdout",
     "output_type": "stream",
     "text": [
      "It doesn't exist\n"
     ]
    }
   ],
   "source": [
    "###Perform a quick check if the sales_item is already included in the report.\n",
    "if \"sales_item\" in report:\n",
    "    print(\"Already included\")\n",
    "else:\n",
    "    print(\"It doesn't exist\")"
   ]
  },
  {
   "cell_type": "code",
   "execution_count": 19,
   "metadata": {},
   "outputs": [],
   "source": [
    "###If not, initialize the key-value pairs for the particular sales_item in the report. \n",
    "###Then, set the sales_item as a new key to the report dictionary ###\n",
    "sales_item = []\n"
   ]
  },
  {
   "cell_type": "code",
   "execution_count": 20,
   "metadata": {},
   "outputs": [],
   "source": [
    "###Create a nested loop by looping through every record in menu.\n",
    "###For each row of the menu data, set the following columns of the menu data to their own variables:Item, Price, Cost\n",
    "item = []\n",
    "price = []\n",
    "cost = []\n",
    "for row in menu:\n",
    "    item.append(row[0])\n",
    "    price.append(row[3])\n",
    "    cost.append(row[4])"
   ]
  },
  {
   "cell_type": "code",
   "execution_count": 21,
   "metadata": {},
   "outputs": [],
   "source": [
    "###If the sales_item in sales is equal to the item in menu, capture the quantity from the sales data and the price and cost from the menu data to calculate the profit for each item.\n",
    "###Cumulatively add the values to the corresponding metrics in the report, like so:\n",
    "###Else print the message {sales_item} does not equal {item}! NO MATCH!\".\n",
    "def report_sales_item(report):\n",
    "    if menu_item == item:\n",
    "        report[sales_item][\"01-count\"] += qnt\n",
    "        report[sales_item][\"02-revenue\"] += (price * qnt)\n",
    "        report[sales_item][\"03-cogs\"] += (cost * qnt)\n",
    "        report[sales_item][\"04-profit\"] += (qnt * (price - cost))\n",
    "    else:\n",
    "        print(f\"{sales_item} does not equal {item}! NO MATCH!\")\n",
    "    \n",
    "    return report_sales_item"
   ]
  },
  {
   "cell_type": "code",
   "execution_count": 25,
   "metadata": {},
   "outputs": [
    {
     "name": "stdout",
     "output_type": "stream",
     "text": [
      "[]\n"
     ]
    }
   ],
   "source": [
    "###for loop that iterates through item and prints out the constructed list\n",
    "print(report_sales_item)"
   ]
  },
  {
   "cell_type": "code",
   "execution_count": 23,
   "metadata": {},
   "outputs": [],
   "source": [
    "###Write out the contents of the report dictionary to a text file\n"
   ]
  },
  {
   "cell_type": "code",
   "execution_count": null,
   "metadata": {},
   "outputs": [],
   "source": []
  },
  {
   "cell_type": "code",
   "execution_count": null,
   "metadata": {},
   "outputs": [],
   "source": []
  }
 ],
 "metadata": {
  "kernelspec": {
   "display_name": "Python 3",
   "language": "python",
   "name": "python3"
  },
  "language_info": {
   "codemirror_mode": {
    "name": "ipython",
    "version": 3
   },
   "file_extension": ".py",
   "mimetype": "text/x-python",
   "name": "python",
   "nbconvert_exporter": "python",
   "pygments_lexer": "ipython3",
   "version": "3.8.3"
  }
 },
 "nbformat": 4,
 "nbformat_minor": 4
}
