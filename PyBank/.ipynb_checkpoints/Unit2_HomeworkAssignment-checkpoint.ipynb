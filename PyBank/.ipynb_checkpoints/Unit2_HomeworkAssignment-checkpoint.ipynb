{
 "cells": [
  {
   "cell_type": "code",
   "execution_count": 58,
   "metadata": {},
   "outputs": [],
   "source": [
    "from pathlib import Path\n",
    "import csv \n",
    "budget_data = Path(\"C:/Users/rodig/Desktop/Python/Jupyter/Homework Assignments/Unit2/02-Homework_02-Python_PyBank_budget_data.csv\")\n",
    "\n",
    "months = 0\n",
    "total = 0\n",
    "average = 0\n",
    "greatest_profit = 0\n",
    "greatest_loss = 0\n",
    "\n",
    "net_total = []\n",
    "\n",
    "with open(budget_data, 'r') as datafile:\n",
    "    csvreader = csv.reader(datafile, delimiter=',')\n",
    "    header = next(csvreader)\n",
    "    \n",
    "### Print The total number of months included in the dataset        \n",
    "    for data in csvreader:\n",
    "        months += 1      \n",
    "        net_total.append(data)"
   ]
  },
  {
   "cell_type": "code",
   "execution_count": 59,
   "metadata": {},
   "outputs": [],
   "source": [
    "###The net total amount of Profit/Losses over the entire period\n",
    "greatest_loss_month = \"\"\n",
    "greatest_profit_month = \"\"\n",
    "\n",
    "for pl in net_total:\n",
    "    pl1 = int(pl[1])\n",
    "    total += pl1\n",
    "###The greatest increase in profits (date and amount) over the entire period.\n",
    "###The greatest decrease in losses (date and amount) over the entire period.\n",
    "    if greatest_loss == 0:\n",
    "        greatest_loss = pl1\n",
    "    elif pl1 < greatest_loss:\n",
    "        greatest_loss = pl1\n",
    "        greatest_loss_month = pl[0]\n",
    "    elif pl1 > greatest_profit:\n",
    "        greatest_profit = pl1\n",
    "        greatest_profit_month = pl[0]"
   ]
  },
  {
   "cell_type": "code",
   "execution_count": 60,
   "metadata": {},
   "outputs": [],
   "source": [
    "###The average of the changes in Profit/Losses over the entire period.\n",
    "average = int(total / months)"
   ]
  },
  {
   "cell_type": "code",
   "execution_count": 61,
   "metadata": {},
   "outputs": [
    {
     "name": "stdout",
     "output_type": "stream",
     "text": [
      "Financial Analysis\n",
      "----------------------------\n",
      "Total Months: 86\n",
      "Total: $38382578\n",
      "Average  Change: $446309\n",
      "Greatest Increase in Profits: 12-Feb 1170593\n",
      "Greatest Decrease in Profits: 13-Sep -1196225\n"
     ]
    }
   ],
   "source": [
    "print('Financial Analysis')\n",
    "print('----------------------------')\n",
    "print(f\"Total Months: {months}\")\n",
    "print(f\"Total: ${total}\")\n",
    "print(f\"Average  Change: ${average}\")\n",
    "print(f\"Greatest Increase in Profits: {greatest_profit_month} {greatest_profit}\")\n",
    "print(f\"Greatest Decrease in Profits: {greatest_loss_month} {greatest_loss}\")\n"
   ]
  },
  {
   "cell_type": "code",
   "execution_count": 63,
   "metadata": {},
   "outputs": [],
   "source": [
    "results = Path(\"C:/Users/rodig/Desktop/Python/Jupyter/Homework Assignments/Unit2/results.txt\")\n",
    "\n",
    "with open(results,'w') as file:\n",
    "    file.write(\"Financial Analysis\\n\")\n",
    "    file.write(\"----------------------------\\n\")\n",
    "    file.write(f\"Total Months: {months}\\n\")\n",
    "    file.write(f\"Total: ${total}\\n\")\n",
    "    file.write(f\"Average  Change: ${average}\\n\")\n",
    "    file.write(f\"Greatest Increase in Profits: {greatest_profit_month} {greatest_profit}\\n\")\n",
    "    file.write(f\"Greatest Decrease in Profits: {greatest_loss_month} {greatest_loss}\\n\")"
   ]
  },
  {
   "cell_type": "code",
   "execution_count": null,
   "metadata": {},
   "outputs": [],
   "source": []
  },
  {
   "cell_type": "code",
   "execution_count": null,
   "metadata": {},
   "outputs": [],
   "source": []
  }
 ],
 "metadata": {
  "kernelspec": {
   "display_name": "Python 3",
   "language": "python",
   "name": "python3"
  },
  "language_info": {
   "codemirror_mode": {
    "name": "ipython",
    "version": 3
   },
   "file_extension": ".py",
   "mimetype": "text/x-python",
   "name": "python",
   "nbconvert_exporter": "python",
   "pygments_lexer": "ipython3",
   "version": "3.8.3"
  }
 },
 "nbformat": 4,
 "nbformat_minor": 4
}
