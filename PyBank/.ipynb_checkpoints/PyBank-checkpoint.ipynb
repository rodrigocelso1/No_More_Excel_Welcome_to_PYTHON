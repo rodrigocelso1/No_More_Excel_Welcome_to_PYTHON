{
 "cells": [
  {
   "cell_type": "code",
   "execution_count": 11,
   "metadata": {},
   "outputs": [],
   "source": [
    "from pathlib import Path\n",
    "import csv"
   ]
  },
  {
   "cell_type": "code",
   "execution_count": 12,
   "metadata": {},
   "outputs": [],
   "source": [
    "budget_data = Path(\"02-Homework_02-Python_PyBank_Resources_budget_data.csv\")"
   ]
  },
  {
   "cell_type": "code",
   "execution_count": 13,
   "metadata": {},
   "outputs": [],
   "source": [
    "months = 0\n",
    "total = 0\n",
    "average = 0\n",
    "greatest_profit = 0\n",
    "greatest_loss = 0\n",
    "\n",
    "net_total = []\n",
    "\n",
    "with open(budget_data, 'r') as datafile:\n",
    "    csvreader = csv.reader(datafile, delimiter=',')\n",
    "    header = next(csvreader)\n",
    "    \n",
    "### Print The total number of months included in the dataset        \n",
    "    for data in csvreader:\n",
    "        months += 1      \n",
    "        net_total.append(data)"
   ]
  },
  {
   "cell_type": "code",
   "execution_count": 14,
   "metadata": {},
   "outputs": [],
   "source": [
    "greatest_loss_month = \"\"\n",
    "greatest_profit_month = \"\"\n",
    "\n",
    "for pl in net_total:\n",
    "    pl1 = int(pl[1])\n",
    "    total += pl1\n",
    "###The greatest increase in profits (date and amount) over the entire period.\n",
    "###The greatest decrease in losses (date and amount) over the entire period.\n",
    "    if greatest_loss == 0:\n",
    "        greatest_loss = pl1\n",
    "    elif pl1 < greatest_loss:\n",
    "        greatest_loss = pl1\n",
    "        greatest_loss_month = pl[0]\n",
    "    elif pl1 > greatest_profit:\n",
    "        greatest_profit = pl1\n",
    "        greatest_profit_month = pl[0]"
   ]
  },
  {
   "cell_type": "code",
   "execution_count": 15,
   "metadata": {},
   "outputs": [],
   "source": [
    "###The average of the changes in Profit/Losses over the entire period.\n",
    "average = int(total / months)"
   ]
  },
  {
   "cell_type": "code",
   "execution_count": 16,
   "metadata": {},
   "outputs": [
    {
     "name": "stdout",
     "output_type": "stream",
     "text": [
      "Financial Analysis\n",
      "----------------------------\n",
      "Total Months: 86\n",
      "Total: $38382578\n",
      "Average  Change: $446309\n",
      "Greatest Increase in Profits: Feb-12 1170593\n",
      "Greatest Decrease in Profits: Sep-13 -1196225\n"
     ]
    }
   ],
   "source": [
    "print('Financial Analysis')\n",
    "print('----------------------------')\n",
    "print(f\"Total Months: {months}\")\n",
    "print(f\"Total: ${total}\")\n",
    "print(f\"Average  Change: ${average}\")\n",
    "print(f\"Greatest Increase in Profits: {greatest_profit_month} {greatest_profit}\")\n",
    "print(f\"Greatest Decrease in Profits: {greatest_loss_month} {greatest_loss}\")"
   ]
  },
  {
   "cell_type": "code",
   "execution_count": 18,
   "metadata": {},
   "outputs": [],
   "source": [
    "results = Path(\"results.txt\")\n",
    "\n",
    "with open(results,'w') as file:\n",
    "    file.write(\"Financial Analysis\\n\")\n",
    "    file.write(\"----------------------------\\n\")\n",
    "    file.write(f\"Total Months: {months}\\n\")\n",
    "    file.write(f\"Total: ${total}\\n\")\n",
    "    file.write(f\"Average  Change: ${average}\\n\")\n",
    "    file.write(f\"Greatest Increase in Profits: {greatest_profit_month} {greatest_profit}\\n\")\n",
    "    file.write(f\"Greatest Decrease in Profits: {greatest_loss_month} {greatest_loss}\\n\")"
   ]
  },
  {
   "cell_type": "code",
   "execution_count": null,
   "metadata": {},
   "outputs": [],
   "source": []
  }
 ],
 "metadata": {
  "kernelspec": {
   "display_name": "Python 3",
   "language": "python",
   "name": "python3"
  },
  "language_info": {
   "codemirror_mode": {
    "name": "ipython",
    "version": 3
   },
   "file_extension": ".py",
   "mimetype": "text/x-python",
   "name": "python",
   "nbconvert_exporter": "python",
   "pygments_lexer": "ipython3",
   "version": "3.8.3"
  }
 },
 "nbformat": 4,
 "nbformat_minor": 4
}
